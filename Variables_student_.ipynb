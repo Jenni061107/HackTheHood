{
  "nbformat": 4,
  "nbformat_minor": 0,
  "metadata": {
    "colab": {
      "provenance": [],
      "include_colab_link": true
    },
    "kernelspec": {
      "name": "python3",
      "display_name": "Python 3"
    },
    "language_info": {
      "name": "python"
    }
  },
  "cells": [
    {
      "cell_type": "markdown",
      "metadata": {
        "id": "view-in-github",
        "colab_type": "text"
      },
      "source": [
        "<a href=\"https://colab.research.google.com/github/Jenni061107/HackTheHood/blob/main/Variables_student_.ipynb\" target=\"_parent\"><img src=\"https://colab.research.google.com/assets/colab-badge.svg\" alt=\"Open In Colab\"/></a>"
      ]
    },
    {
      "cell_type": "code",
      "execution_count": 1,
      "metadata": {
        "id": "46l53Aisb7y7",
        "colab": {
          "base_uri": "https://localhost:8080/"
        },
        "outputId": "d6c421c5-ed63-4e01-98d6-74c4ed0ece63"
      },
      "outputs": [
        {
          "output_type": "stream",
          "name": "stdout",
          "text": [
            "Jenni\n",
            "Godinez\n",
            "17\n",
            "Beauty and the Beast Tangled Mean Girls Monsters Inc.\n"
          ]
        }
      ],
      "source": [
        "### EXERCISE 1\n",
        "# Create a new variables called\n",
        "#first name,last name, and age as strings (in quotes) or integers.\n",
        "str(\"Jenni Godinez 17\")\n",
        "\n",
        "\n",
        "\n",
        "# Assign your first name to the variable below\n",
        "first_name = \"Jenni\"\n",
        "\n",
        "# Assign your last name to the variable below\n",
        "last_name = \"Godinez\"\n",
        "\n",
        "# Assign your age to the variable below\n",
        "age = \"17\"\n",
        "\n",
        "# Print your first name\n",
        "print(\"Jenni\")\n",
        "\n",
        "# Print your last name\n",
        "print(\"Godinez\")\n",
        "\n",
        "# Print your age\n",
        "print(\"17\")\n",
        "\n",
        "\n",
        "#------------------------------------------------------------------------------#\n",
        "#Bonus #1\n",
        "#create a list of favorye artist movies and/or books(must have 4)\n",
        "\n",
        "favorite_movies = [\"Beauty and the Beast\",\"Tangled\",\"Mean Girls\", \"Monsters Inc.\"]\n",
        "\n",
        "\n",
        "#print the list\n",
        "print(\"Beauty and the Beast, Tangled, Mean Girls, Monsters Inc.\")\n",
        "\n",
        "#Bonus #2\n",
        "#create a dictionary with Favorite things (must have 4)\n",
        "\n",
        "#print the dictionary"
      ]
    },
    {
      "cell_type": "code",
      "source": [],
      "metadata": {
        "id": "DlXZ7DbgeaB5"
      },
      "execution_count": null,
      "outputs": []
    }
  ]
}